{
 "cells": [
  {
   "cell_type": "markdown",
   "id": "d3900b14-0532-47d7-9016-71f9cf535789",
   "metadata": {},
   "source": [
    "# 1. Python Paradigms "
   ]
  },
  {
   "cell_type": "code",
   "execution_count": null,
   "id": "b8b54a43-6bd7-4165-9994-9daefe00b71b",
   "metadata": {},
   "outputs": [],
   "source": [
    "# Question 1: Write a simple procedural code that sums numbers from 1 to 10."
   ]
  },
  {
   "cell_type": "code",
   "execution_count": 2,
   "id": "72e93504-ebb0-402c-b9af-e8f541598e9e",
   "metadata": {},
   "outputs": [
    {
     "name": "stdout",
     "output_type": "stream",
     "text": [
      "The sum on numbers is: 55\n"
     ]
    }
   ],
   "source": [
    "sum=0\n",
    "for i in range(1,11,1):\n",
    "   sum=sum+i\n",
    "print(\"The sum on numbers is:\", sum)"
   ]
  },
  {
   "cell_type": "code",
   "execution_count": null,
   "id": "0e9aea27-dbb9-45a0-a688-6242b9471137",
   "metadata": {},
   "outputs": [],
   "source": [
    "#Question 2: Write a function based code to find the factorial of a number"
   ]
  },
  {
   "cell_type": "code",
   "execution_count": 4,
   "id": "130f6520-f5b1-43a1-bacc-0bd38de9014d",
   "metadata": {},
   "outputs": [
    {
     "name": "stdout",
     "output_type": "stream",
     "text": [
      "5040\n"
     ]
    }
   ],
   "source": [
    "def factorial(n):\n",
    "    if n==0:\n",
    "        return 1\n",
    "    return n*factorial(n-1) #recursive function\n",
    "print(factorial(7))"
   ]
  },
  {
   "cell_type": "code",
   "execution_count": null,
   "id": "ec5e5048-f4bc-4cb6-8e5a-138157422603",
   "metadata": {},
   "outputs": [],
   "source": [
    "#Question 3: Write an object-oriented code to create a simple class representing a Dog. "
   ]
  },
  {
   "cell_type": "code",
   "execution_count": 1,
   "id": "037d0cf7-67b6-4882-a73c-3c75cdfc3040",
   "metadata": {},
   "outputs": [
    {
     "name": "stdout",
     "output_type": "stream",
     "text": [
      "Bruno says Woof!\n"
     ]
    }
   ],
   "source": [
    "class Dog:\n",
    "    def __init__(self, name, age):\n",
    "        self.name = name\n",
    "        self.age = age\n",
    "    \n",
    "    def bark(self):\n",
    "        return f\"{self.name} says Woof!\"\n",
    "\n",
    "dog = Dog(\"Bruno\", 12)\n",
    "print(dog.bark())"
   ]
  },
  {
   "cell_type": "code",
   "execution_count": null,
   "id": "c11762e4-e1f5-4e24-b1ea-74347dcb3909",
   "metadata": {},
   "outputs": [],
   "source": [
    "# Question 4: Write a generator function to yield even numbers up to 10."
   ]
  },
  {
   "cell_type": "code",
   "execution_count": 2,
   "id": "4cbe9b08-25ef-4422-b953-128c0baa1cb3",
   "metadata": {},
   "outputs": [
    {
     "name": "stdout",
     "output_type": "stream",
     "text": [
      "2\n",
      "4\n",
      "6\n",
      "8\n",
      "10\n"
     ]
    }
   ],
   "source": [
    "def even_numbers():\n",
    "    for num in range(1, 11):\n",
    "        if num % 2 == 0:\n",
    "            yield num\n",
    "\n",
    "for even in even_numbers():\n",
    "    print(even)"
   ]
  },
  {
   "cell_type": "code",
   "execution_count": null,
   "id": "b99c664d-7d9d-491d-ba5e-2b1e20106902",
   "metadata": {},
   "outputs": [],
   "source": [
    "# Question 5: Write a list comprehension to create a list of squares of numbers from 1 to 10."
   ]
  },
  {
   "cell_type": "code",
   "execution_count": 3,
   "id": "ab65c3aa-6643-4597-bab8-b728d69a4000",
   "metadata": {},
   "outputs": [
    {
     "name": "stdout",
     "output_type": "stream",
     "text": [
      "[1, 4, 9, 16, 25, 36, 49, 64, 81, 100]\n"
     ]
    }
   ],
   "source": [
    "squares = [num**2 for num in range(1, 11)]\n",
    "print(squares)"
   ]
  },
  {
   "cell_type": "markdown",
   "id": "e05ef6c7-8854-41ce-846e-c89b8bbe9ee7",
   "metadata": {},
   "source": [
    "# 2. Data Types of Python"
   ]
  },
  {
   "cell_type": "code",
   "execution_count": null,
   "id": "38ebf646-508f-4ccd-b82d-f9bacaf36a14",
   "metadata": {},
   "outputs": [],
   "source": [
    "# Question 6: Print the data type of a variable containing a string."
   ]
  },
  {
   "cell_type": "code",
   "execution_count": 13,
   "id": "2cc92e31-981b-4fd9-b72b-1f5aeb1383de",
   "metadata": {},
   "outputs": [
    {
     "name": "stdout",
     "output_type": "stream",
     "text": [
      "<class 'str'>\n"
     ]
    }
   ],
   "source": [
    "my_string = \"Hello, World!\"\n",
    "print(type(my_string))"
   ]
  },
  {
   "cell_type": "code",
   "execution_count": null,
   "id": "5250242c-7af0-4148-b3d4-c9f40f17c387",
   "metadata": {},
   "outputs": [],
   "source": [
    "# Question 2: Check if a variable is an integer."
   ]
  },
  {
   "cell_type": "code",
   "execution_count": 10,
   "id": "ee854c1b-dc80-4268-a451-45cae2be790f",
   "metadata": {},
   "outputs": [
    {
     "name": "stdout",
     "output_type": "stream",
     "text": [
      "True\n"
     ]
    }
   ],
   "source": [
    "my_number = 10\n",
    "print(isinstance(my_number, int))"
   ]
  },
  {
   "cell_type": "code",
   "execution_count": null,
   "id": "0c81fd2f-5b96-4192-b958-b0fcb6d3179f",
   "metadata": {},
   "outputs": [],
   "source": [
    "# Question 3: Create a list and print its data type."
   ]
  },
  {
   "cell_type": "code",
   "execution_count": 11,
   "id": "e00a2941-2a34-497f-bea3-ace59d369bd7",
   "metadata": {},
   "outputs": [
    {
     "name": "stdout",
     "output_type": "stream",
     "text": [
      "<class 'list'>\n"
     ]
    }
   ],
   "source": [
    "my_list = [1, 2, 3, 4, 5]\n",
    "print(type(my_list))"
   ]
  },
  {
   "cell_type": "code",
   "execution_count": 12,
   "id": "80ff167f-8cf8-4127-a19f-67a178e2464f",
   "metadata": {},
   "outputs": [
    {
     "name": "stdout",
     "output_type": "stream",
     "text": [
      "<class 'int'>\n"
     ]
    }
   ],
   "source": [
    "# Question 5: Convert a float to an integer and print its data type.\n",
    "my_float = 3.14\n",
    "my_int = int(my_float)\n",
    "print(type(my_int))"
   ]
  },
  {
   "cell_type": "markdown",
   "id": "48c7933f-0de0-4023-9dbb-48446ef8fc22",
   "metadata": {},
   "source": [
    "# 3. Dictionary in Python "
   ]
  },
  {
   "cell_type": "code",
   "execution_count": 14,
   "id": "4ac20d5e-1411-4ee3-841f-838f2dd9dbfe",
   "metadata": {},
   "outputs": [
    {
     "name": "stdout",
     "output_type": "stream",
     "text": [
      "{'name': 'John', 'age': 30, 'city': 'New York'}\n"
     ]
    }
   ],
   "source": [
    "# Question 1: Create a dictionary with three key-value pairs and print it.\n",
    "my_dict = {\"name\": \"John\", \"age\": 30, \"city\": \"New York\"}\n",
    "print(my_dict)"
   ]
  },
  {
   "cell_type": "code",
   "execution_count": 15,
   "id": "c5babcd1-7807-488b-a578-28f9ba7be251",
   "metadata": {},
   "outputs": [
    {
     "name": "stdout",
     "output_type": "stream",
     "text": [
      "{'name': 'John', 'age': 31, 'city': 'New York'}\n"
     ]
    }
   ],
   "source": [
    "# Question 2: Add a new key-value pair to the dictionary.\n",
    "my_dict[\"age\"] = 31\n",
    "print(my_dict)"
   ]
  },
  {
   "cell_type": "code",
   "execution_count": 16,
   "id": "e2d56916-fca5-4320-9ff1-2c5362544fd7",
   "metadata": {},
   "outputs": [
    {
     "name": "stdout",
     "output_type": "stream",
     "text": [
      "{'name': 'John', 'age': 31}\n"
     ]
    }
   ],
   "source": [
    "# Question 4: Remove a key-value pair from the dictionary.\n",
    "my_dict.pop(\"city\")\n",
    "print(my_dict)"
   ]
  },
  {
   "cell_type": "code",
   "execution_count": 17,
   "id": "0f5e4c26-de84-473f-b671-8fcf436747b1",
   "metadata": {},
   "outputs": [
    {
     "name": "stdout",
     "output_type": "stream",
     "text": [
      "name: John\n",
      "age: 31\n"
     ]
    }
   ],
   "source": [
    "# Question 5: Iterate over the dictionary and print each key-value pair.\n",
    "for key, value in my_dict.items():\n",
    "    print(f\"{key}: {value}\")"
   ]
  },
  {
   "cell_type": "markdown",
   "id": "12d8e4f1-59e3-4382-8de4-79fd95cfbe69",
   "metadata": {},
   "source": [
    "# 4. Basic String Manipulation"
   ]
  },
  {
   "cell_type": "code",
   "execution_count": 6,
   "id": "1bf6e233-b9f2-4659-980d-5e3763b9ce02",
   "metadata": {},
   "outputs": [
    {
     "name": "stdout",
     "output_type": "stream",
     "text": [
      "Hello World\n"
     ]
    }
   ],
   "source": [
    "# Question 1: Concatenate two strings.\n",
    "str1 = \"Hello\"\n",
    "str2 = \"World\"\n",
    "result = str1 + \" \" + str2\n",
    "print(result)"
   ]
  },
  {
   "cell_type": "code",
   "execution_count": 7,
   "id": "a38caf8c-9638-4467-96db-c145aa86e97b",
   "metadata": {},
   "outputs": [
    {
     "name": "stdout",
     "output_type": "stream",
     "text": [
      "HELLO\n"
     ]
    }
   ],
   "source": [
    "# Question 2: Convert a string to uppercase.\n",
    "my_string = \"hello\"\n",
    "print(my_string.upper())"
   ]
  },
  {
   "cell_type": "code",
   "execution_count": 8,
   "id": "8ff3fde3-edbe-4845-925e-1fdab878ecd5",
   "metadata": {},
   "outputs": [
    {
     "name": "stdout",
     "output_type": "stream",
     "text": [
      "13\n"
     ]
    }
   ],
   "source": [
    "# Question 3: Find the length of a string.\n",
    "my_string = \"Hello, World!\"\n",
    "print(len(my_string))"
   ]
  },
  {
   "cell_type": "code",
   "execution_count": 18,
   "id": "317d4a71-543d-4ff4-ba0f-d2d51c03c135",
   "metadata": {},
   "outputs": [
    {
     "name": "stdout",
     "output_type": "stream",
     "text": [
      "Hello, Python!\n"
     ]
    }
   ],
   "source": [
    "# Question 4: Replace a substring in a string.\n",
    "my_string = \"Hello, World!\"\n",
    "print(my_string.replace(\"World\", \"Python\"))"
   ]
  },
  {
   "cell_type": "code",
   "execution_count": 19,
   "id": "f95ee06c-898b-4035-b71e-27b430891a2c",
   "metadata": {},
   "outputs": [
    {
     "name": "stdout",
     "output_type": "stream",
     "text": [
      "[1, 2, 3, 4, 5]\n"
     ]
    }
   ],
   "source": [
    "# Question 5: Split a string into a list of words.\n",
    "my_list = [1, 2, 3, 4, 5]\n",
    "print(my_list)"
   ]
  },
  {
   "cell_type": "markdown",
   "id": "2d7073a6-22e3-462b-b1ab-aafa5e5f86a3",
   "metadata": {},
   "source": [
    "# 5. Lists in Python"
   ]
  },
  {
   "cell_type": "code",
   "execution_count": 20,
   "id": "f3d6c981-bf55-4266-8097-4c5190a70114",
   "metadata": {},
   "outputs": [
    {
     "name": "stdout",
     "output_type": "stream",
     "text": [
      "[1, 2, 3, 4, 5]\n"
     ]
    }
   ],
   "source": [
    "# Question 1: Create a list with five elements.\n",
    "my_list = [1, 2, 3, 4, 5]\n",
    "print(my_list)"
   ]
  },
  {
   "cell_type": "code",
   "execution_count": 21,
   "id": "e70bd86e-8f27-46ba-a7d4-a9e16af596e5",
   "metadata": {},
   "outputs": [
    {
     "name": "stdout",
     "output_type": "stream",
     "text": [
      "[1, 2, 3, 4, 5, 6]\n"
     ]
    }
   ],
   "source": [
    "# Question 2: Append an element to the list.\n",
    "my_list.append(6)\n",
    "print(my_list)"
   ]
  },
  {
   "cell_type": "code",
   "execution_count": 22,
   "id": "61e066b1-035b-497f-9bad-44b628bfcc8f",
   "metadata": {},
   "outputs": [
    {
     "name": "stdout",
     "output_type": "stream",
     "text": [
      "[1, 3, 4, 5, 6]\n"
     ]
    }
   ],
   "source": [
    "# Question 3: Remove the second element from the list.\n",
    "my_list.pop(1)\n",
    "print(my_list)"
   ]
  },
  {
   "cell_type": "code",
   "execution_count": 23,
   "id": "b885113c-0bff-4bfd-9d62-f2721a925aaa",
   "metadata": {},
   "outputs": [
    {
     "name": "stdout",
     "output_type": "stream",
     "text": [
      "[6, 5, 4, 3, 1]\n"
     ]
    }
   ],
   "source": [
    "# Question 4: Sort the list in descending order.\n",
    "my_list.sort(reverse=True)\n",
    "print(my_list)"
   ]
  },
  {
   "cell_type": "code",
   "execution_count": 24,
   "id": "38233ce9-6c18-4810-bbac-5bad00cfe585",
   "metadata": {},
   "outputs": [
    {
     "name": "stdout",
     "output_type": "stream",
     "text": [
      "2\n"
     ]
    }
   ],
   "source": [
    "# Question 5: Find the index of an element in the list.\n",
    "index = my_list.index(4)\n",
    "print(index)"
   ]
  },
  {
   "cell_type": "markdown",
   "id": "bf6ffc79-4f39-4883-91aa-fc5c5b7bc078",
   "metadata": {},
   "source": [
    "# 6. Tuple in Python"
   ]
  },
  {
   "cell_type": "code",
   "execution_count": 26,
   "id": "34a9ac1e-00c4-4eac-95d3-c26b76e6478f",
   "metadata": {},
   "outputs": [
    {
     "name": "stdout",
     "output_type": "stream",
     "text": [
      "(1, 2, 3)\n"
     ]
    }
   ],
   "source": [
    "# Question 1: Create a tuple with three elements.\n",
    "my_tuple = (1, 2, 3)\n",
    "print(my_tuple)"
   ]
  },
  {
   "cell_type": "code",
   "execution_count": 27,
   "id": "a2a18ea3-31cc-4594-b2fa-2246d28f11dd",
   "metadata": {},
   "outputs": [
    {
     "name": "stdout",
     "output_type": "stream",
     "text": [
      "2\n"
     ]
    }
   ],
   "source": [
    "# Question 2: Access the second element of the tuple.\n",
    "print(my_tuple[1])"
   ]
  },
  {
   "cell_type": "code",
   "execution_count": 28,
   "id": "76a77168-21a6-498e-80e3-1f682935ae42",
   "metadata": {},
   "outputs": [
    {
     "name": "stdout",
     "output_type": "stream",
     "text": [
      "1 2 3\n"
     ]
    }
   ],
   "source": [
    "# Question 3: Unpack the tuple into three variables.\n",
    "\n",
    "a, b, c = my_tuple\n",
    "print(a, b, c)"
   ]
  },
  {
   "cell_type": "code",
   "execution_count": 29,
   "id": "0d933e18-86c2-4573-bef4-e4f40325d00b",
   "metadata": {},
   "outputs": [
    {
     "name": "stdout",
     "output_type": "stream",
     "text": [
      "(1, 2, 3, 4)\n"
     ]
    }
   ],
   "source": [
    "# Question 4: Concatenate two tuples.\n",
    "tuple1 = (1, 2)\n",
    "tuple2 = (3, 4)\n",
    "result = tuple1 + tuple2\n",
    "print(result)"
   ]
  },
  {
   "cell_type": "code",
   "execution_count": 30,
   "id": "af12aa5f-7c2d-4ddb-9110-08806f4fa4e1",
   "metadata": {},
   "outputs": [
    {
     "name": "stdout",
     "output_type": "stream",
     "text": [
      "True\n"
     ]
    }
   ],
   "source": [
    "# Question 5: Check if an element exists in the tuple.\n",
    "print(2 in my_tuple)"
   ]
  },
  {
   "cell_type": "markdown",
   "id": "67d5eae2-73f8-42ee-a9cf-49507f8e653b",
   "metadata": {},
   "source": [
    "# 7. Mutable and Immutable"
   ]
  },
  {
   "cell_type": "code",
   "execution_count": 32,
   "id": "1fb39938-2c36-4516-99a7-c8996b3d00c5",
   "metadata": {},
   "outputs": [
    {
     "name": "stdout",
     "output_type": "stream",
     "text": [
      "[10, 2, 3]\n"
     ]
    }
   ],
   "source": [
    "# Question 1: Demonstrate the mutability of lists.\n",
    "my_list = [1, 2, 3]\n",
    "my_list[0] = 10\n",
    "print(my_list)"
   ]
  },
  {
   "cell_type": "code",
   "execution_count": 33,
   "id": "23b6554a-0c0e-47ad-b127-ebf84353c7bb",
   "metadata": {},
   "outputs": [
    {
     "name": "stdout",
     "output_type": "stream",
     "text": [
      "(1, 2, 3)\n"
     ]
    }
   ],
   "source": [
    "# Question 2: Demonstrate the immutability of tuples.\n",
    "my_tuple = (1, 2, 3)\n",
    "# my_tuple[0] = 10  # This will raise an error\n",
    "print(my_tuple)"
   ]
  },
  {
   "cell_type": "code",
   "execution_count": 34,
   "id": "3a299aca-d8f7-4452-a8aa-6468aecc47f1",
   "metadata": {},
   "outputs": [
    {
     "name": "stdout",
     "output_type": "stream",
     "text": [
      "Hello\n"
     ]
    }
   ],
   "source": [
    "# Question 3: Show how strings are immutable.\n",
    "\n",
    "my_string = \"hello\"\n",
    "# my_string[0] = \"H\"  # This will raise an error\n",
    "new_string = \"H\" + my_string[1:]\n",
    "print(new_string)"
   ]
  },
  {
   "cell_type": "code",
   "execution_count": 35,
   "id": "3a491e10-3480-438b-b64d-304e325ac2e5",
   "metadata": {},
   "outputs": [
    {
     "name": "stdout",
     "output_type": "stream",
     "text": [
      "{'name': 'John', 'age': 31}\n"
     ]
    }
   ],
   "source": [
    "# Question 4: Demonstrate modifying a dictionary (mutable).\n",
    "my_dict = {\"name\": \"John\", \"age\": 30}\n",
    "my_dict[\"age\"] = 31\n",
    "print(my_dict)"
   ]
  },
  {
   "cell_type": "code",
   "execution_count": 36,
   "id": "41c55b6c-a519-4e99-a122-7416ca32d1ca",
   "metadata": {},
   "outputs": [
    {
     "name": "stdout",
     "output_type": "stream",
     "text": [
      "6 5\n"
     ]
    }
   ],
   "source": [
    "# Question 5: Show that integers are immutable.\n",
    "a = 5\n",
    "b = a\n",
    "a = 6\n",
    "print(a, b)"
   ]
  },
  {
   "cell_type": "markdown",
   "id": "a502c692-69e1-4576-839d-5a0c3643afb7",
   "metadata": {},
   "source": [
    "# 8. Nested Loop Operation "
   ]
  },
  {
   "cell_type": "code",
   "execution_count": 38,
   "id": "55c69e98-0476-4cf7-abd6-1191f846ac44",
   "metadata": {},
   "outputs": [
    {
     "name": "stdout",
     "output_type": "stream",
     "text": [
      "1 2 3 4 5 \n",
      "2 4 6 8 10 \n",
      "3 6 9 12 15 \n",
      "4 8 12 16 20 \n",
      "5 10 15 20 25 \n"
     ]
    }
   ],
   "source": [
    "# Question 1: Print a multiplication table using nested loops.\n",
    "for i in range(1, 6):\n",
    "    for j in range(1, 6):\n",
    "        print(i * j, end=\" \")\n",
    "    print()"
   ]
  },
  {
   "cell_type": "code",
   "execution_count": 39,
   "id": "aab0f38c-8186-47ac-9d83-de5e5228897b",
   "metadata": {},
   "outputs": [
    {
     "name": "stdout",
     "output_type": "stream",
     "text": [
      "[1, 2, 3, 4, 5, 6]\n"
     ]
    }
   ],
   "source": [
    "# Question 2: Flatten a nested list using nested loops.\n",
    "nested_list = [[1, 2], [3, 4], [5, 6]]\n",
    "flat_list = []\n",
    "for sublist in nested_list:\n",
    "    for item in sublist:\n",
    "        flat_list.append(item)\n",
    "print(flat_list)"
   ]
  },
  {
   "cell_type": "code",
   "execution_count": 40,
   "id": "3cdc39d7-7c98-452a-9753-5631c327c8bd",
   "metadata": {},
   "outputs": [
    {
     "name": "stdout",
     "output_type": "stream",
     "text": [
      "*\n",
      "**\n",
      "***\n",
      "****\n",
      "*****\n"
     ]
    }
   ],
   "source": [
    "# Question 3: Print a pattern of stars using nested loops.\n",
    "for i in range(1, 6):\n",
    "    for j in range(i):\n",
    "        print(\"*\", end=\"\")\n",
    "    print()"
   ]
  },
  {
   "cell_type": "code",
   "execution_count": 41,
   "id": "96115b96-49fc-45f4-a3f2-95b1409f5041",
   "metadata": {},
   "outputs": [
    {
     "name": "stdout",
     "output_type": "stream",
     "text": [
      "[[1, 4, 7], [2, 5, 8], [3, 6, 9]]\n"
     ]
    }
   ],
   "source": [
    "# Question 4: Transpose a matrix using nested loops.\n",
    "matrix = [[1, 2, 3], [4, 5, 6], [7, 8, 9]]\n",
    "transpose = []\n",
    "for i in range(3):\n",
    "    row = []\n",
    "    for j in range(3):\n",
    "        row.append(matrix[j][i])\n",
    "    transpose.append(row)\n",
    "print(transpose)"
   ]
  },
  {
   "cell_type": "code",
   "execution_count": 42,
   "id": "27300578-0422-4d68-85cb-711be8a9382c",
   "metadata": {},
   "outputs": [
    {
     "name": "stdout",
     "output_type": "stream",
     "text": [
      "a: 1\n",
      "a: 2\n",
      "b: 3\n",
      "b: 4\n"
     ]
    }
   ],
   "source": [
    "# Question 5: Iterate through a dictionary of lists using nested loops.\n",
    "dict_of_lists = {\"a\": [1, 2], \"b\": [3, 4]}\n",
    "for key, value_list in dict_of_lists.items():\n",
    "    for value in value_list:\n",
    "        print(f\"{key}: {value}\")"
   ]
  },
  {
   "cell_type": "markdown",
   "id": "f83ac252-aa21-4feb-a8f6-0ae0966c3eb1",
   "metadata": {},
   "source": [
    "# 9. Identity Operators"
   ]
  },
  {
   "cell_type": "code",
   "execution_count": 43,
   "id": "5bd809b1-d0f4-4d1f-a747-64fe8df1a240",
   "metadata": {},
   "outputs": [
    {
     "name": "stdout",
     "output_type": "stream",
     "text": [
      "True\n"
     ]
    }
   ],
   "source": [
    "# Question 1: Use the is operator to check if two variables point to the same object.\n",
    "a = [1, 2, 3]\n",
    "b = a\n",
    "print(a is b)"
   ]
  },
  {
   "cell_type": "code",
   "execution_count": 44,
   "id": "8b4a136d-4d20-4b5f-aa4c-da893cb2d67a",
   "metadata": {},
   "outputs": [
    {
     "name": "stdout",
     "output_type": "stream",
     "text": [
      "True\n"
     ]
    }
   ],
   "source": [
    "# Question 2: Use the is not operator to check if two variables do not point to the same object.\n",
    "a = [1, 2, 3]\n",
    "b = [1, 2, 3]\n",
    "print(a is not b)"
   ]
  },
  {
   "cell_type": "code",
   "execution_count": 45,
   "id": "f9a94272-e70f-4f9b-bd42-9c08bf13e5b0",
   "metadata": {},
   "outputs": [
    {
     "name": "stdout",
     "output_type": "stream",
     "text": [
      "True\n"
     ]
    }
   ],
   "source": [
    "# Question 3: Compare two strings using the is operator.\n",
    "\n",
    "str1 = \"hello\"\n",
    "str2 = \"hello\"\n",
    "print(str1 is str2)"
   ]
  },
  {
   "cell_type": "code",
   "execution_count": 46,
   "id": "2057e768-19a9-461d-b029-fa7120a7d2a5",
   "metadata": {},
   "outputs": [
    {
     "name": "stdout",
     "output_type": "stream",
     "text": [
      "True\n"
     ]
    }
   ],
   "source": [
    "# Using is with None:\n",
    "\n",
    "a = None\n",
    "print(a is None)"
   ]
  },
  {
   "cell_type": "markdown",
   "id": "57dd0c1d-2e68-47d3-817d-7d9db2ca2d5e",
   "metadata": {},
   "source": [
    "# 10. Membership Operator"
   ]
  },
  {
   "cell_type": "code",
   "execution_count": 47,
   "id": "61cfbbd5-b660-4cf8-b4de-f69613c7e64c",
   "metadata": {},
   "outputs": [
    {
     "name": "stdout",
     "output_type": "stream",
     "text": [
      "True\n"
     ]
    }
   ],
   "source": [
    "#1. Check if an element is in a list:\n",
    "fruits = ['apple', 'banana', 'cherry']\n",
    "print('banana' in fruits)"
   ]
  },
  {
   "cell_type": "code",
   "execution_count": 48,
   "id": "4d9c02bf-f134-40dc-8de8-51b5d80d2e71",
   "metadata": {},
   "outputs": [
    {
     "name": "stdout",
     "output_type": "stream",
     "text": [
      "True\n"
     ]
    }
   ],
   "source": [
    "# Check if a substring is in a string:\n",
    "\n",
    "text = \"hello world\"\n",
    "print('world' in text)  "
   ]
  },
  {
   "cell_type": "code",
   "execution_count": 49,
   "id": "327ec28a-0080-4d46-90cc-a88555bb1988",
   "metadata": {},
   "outputs": [
    {
     "name": "stdout",
     "output_type": "stream",
     "text": [
      "True\n"
     ]
    }
   ],
   "source": [
    "# 3.Check if a key is in a dictionary:\n",
    "my_dict = {'a': 1, 'b': 2}\n",
    "print('a' in my_dict) "
   ]
  },
  {
   "cell_type": "code",
   "execution_count": 50,
   "id": "4614908b-a7e1-4748-ae82-c93cea5e9a0b",
   "metadata": {},
   "outputs": [
    {
     "name": "stdout",
     "output_type": "stream",
     "text": [
      "True\n"
     ]
    }
   ],
   "source": [
    "# 4.Check if an element is not in a tuple:\n",
    "\n",
    "numbers = (1, 2, 3)\n",
    "print(4 not in numbers)  # True"
   ]
  },
  {
   "cell_type": "code",
   "execution_count": 51,
   "id": "4eeb0f27-edc1-4cfd-9dfc-a5d5aa65e066",
   "metadata": {},
   "outputs": [
    {
     "name": "stdout",
     "output_type": "stream",
     "text": [
      "True\n"
     ]
    }
   ],
   "source": [
    "# 5.Check membership in a set:\n",
    "my_set = {1, 2, 3}\n",
    "print(2 in my_set)  # True"
   ]
  },
  {
   "cell_type": "markdown",
   "id": "cb65b75c-30ee-41e4-9786-0befed541f26",
   "metadata": {},
   "source": [
    "# 11. Indexing"
   ]
  },
  {
   "cell_type": "code",
   "execution_count": 53,
   "id": "d90ed8d2-a0cc-48a9-9a56-e26c2f5c33d8",
   "metadata": {},
   "outputs": [
    {
     "name": "stdout",
     "output_type": "stream",
     "text": [
      "banana\n"
     ]
    }
   ],
   "source": [
    "# 1.Access an element in a list by index:\n",
    "\n",
    "fruits = ['apple', 'banana', 'cherry']\n",
    "print(fruits[1])  # banana"
   ]
  },
  {
   "cell_type": "code",
   "execution_count": 54,
   "id": "6adf28fc-7b57-4baf-aaef-060a19dbf0aa",
   "metadata": {},
   "outputs": [
    {
     "name": "stdout",
     "output_type": "stream",
     "text": [
      "o\n"
     ]
    }
   ],
   "source": [
    "# 2.Access a character in a string by index:\n",
    "text = \"hello\"\n",
    "print(text[4])  # o"
   ]
  },
  {
   "cell_type": "code",
   "execution_count": 55,
   "id": "5dd03a08-ce0a-4998-b1d3-e93dd4044b3a",
   "metadata": {},
   "outputs": [
    {
     "name": "stdout",
     "output_type": "stream",
     "text": [
      "1\n"
     ]
    }
   ],
   "source": [
    "# 3.Access an element in a tuple by index:\n",
    "numbers = (1, 2, 3)\n",
    "print(numbers[0])"
   ]
  },
  {
   "cell_type": "code",
   "execution_count": 56,
   "id": "97910f46-ac0a-46ea-89eb-8b34cb2ab095",
   "metadata": {},
   "outputs": [
    {
     "name": "stdout",
     "output_type": "stream",
     "text": [
      "cherry\n"
     ]
    }
   ],
   "source": [
    "# 4.Indexing with negative numbers:\n",
    "fruits = ['apple', 'banana', 'cherry']\n",
    "print(fruits[-1])"
   ]
  },
  {
   "cell_type": "code",
   "execution_count": 57,
   "id": "d2576966-6e21-43fb-82cb-9e53ebc210a7",
   "metadata": {},
   "outputs": [
    {
     "name": "stdout",
     "output_type": "stream",
     "text": [
      "6\n"
     ]
    }
   ],
   "source": [
    "# 5.Accessing elements in a nested list:\n",
    "matrix = [[1, 2, 3], [4, 5, 6], [7, 8, 9]]\n",
    "print(matrix[1][2]) "
   ]
  },
  {
   "cell_type": "markdown",
   "id": "e49fcc80-d256-4bae-961f-7ff67d72a31f",
   "metadata": {},
   "source": [
    "# 12. Slicing"
   ]
  },
  {
   "cell_type": "code",
   "execution_count": 58,
   "id": "b4ea9f70-0a90-4724-8988-272da4f7d02b",
   "metadata": {},
   "outputs": [
    {
     "name": "stdout",
     "output_type": "stream",
     "text": [
      "['banana', 'cherry']\n"
     ]
    }
   ],
   "source": [
    "# 1.Slice a list from start to end:\n",
    "fruits = ['apple', 'banana', 'cherry', 'date']\n",
    "print(fruits[1:3])"
   ]
  },
  {
   "cell_type": "code",
   "execution_count": 59,
   "id": "8b21f4aa-4d80-41ec-8bb9-fe6de9b040f7",
   "metadata": {},
   "outputs": [
    {
     "name": "stdout",
     "output_type": "stream",
     "text": [
      "hlo\n"
     ]
    }
   ],
   "source": [
    "# 2.Slice a string with step:\n",
    "text = \"hello world\"\n",
    "print(text[0:5:2])"
   ]
  },
  {
   "cell_type": "code",
   "execution_count": 60,
   "id": "d2696706-13e0-440f-a600-52aa39d86608",
   "metadata": {},
   "outputs": [
    {
     "name": "stdout",
     "output_type": "stream",
     "text": [
      "['banana', 'cherry']\n"
     ]
    }
   ],
   "source": [
    "# 3.Slice a list with negative indices:\n",
    "fruits = ['apple', 'banana', 'cherry', 'date']\n",
    "print(fruits[-3:-1])"
   ]
  },
  {
   "cell_type": "code",
   "execution_count": 61,
   "id": "b6b3cfaa-8bde-43cf-92a9-2adecc7b7ee0",
   "metadata": {},
   "outputs": [
    {
     "name": "stdout",
     "output_type": "stream",
     "text": [
      "(2, 3, 4)\n"
     ]
    }
   ],
   "source": [
    "# 4.Slice a tuple:\n",
    "numbers = (1, 2, 3, 4, 5)\n",
    "print(numbers[1:4]) "
   ]
  },
  {
   "cell_type": "code",
   "execution_count": 62,
   "id": "cc28af2a-7495-4d86-bd5f-b3afbcef6cde",
   "metadata": {},
   "outputs": [
    {
     "name": "stdout",
     "output_type": "stream",
     "text": [
      "['date', 'cherry', 'banana', 'apple']\n"
     ]
    }
   ],
   "source": [
    "# 5.Slice a list to reverse it:\n",
    "fruits = ['apple', 'banana', 'cherry', 'date']\n",
    "print(fruits[::-1]) "
   ]
  },
  {
   "cell_type": "markdown",
   "id": "67761354-3603-4e48-a938-2df2a94248ca",
   "metadata": {},
   "source": [
    "# 13. User Defined Functions "
   ]
  },
  {
   "cell_type": "code",
   "execution_count": 64,
   "id": "d6149f9e-96af-4599-88df-e77eef04d036",
   "metadata": {},
   "outputs": [
    {
     "name": "stdout",
     "output_type": "stream",
     "text": [
      "5\n"
     ]
    }
   ],
   "source": [
    "# Create a function to add two numbers:\n",
    "def add(a, b):\n",
    "    return a + b\n",
    "\n",
    "print(add(2, 3)) "
   ]
  },
  {
   "cell_type": "code",
   "execution_count": 65,
   "id": "c5ab2073-207e-4e16-a668-233d10b4f841",
   "metadata": {},
   "outputs": [
    {
     "name": "stdout",
     "output_type": "stream",
     "text": [
      "120\n"
     ]
    }
   ],
   "source": [
    "# 2.Create a function to find the factorial of a number:\n",
    "def factorial(n):\n",
    "    if n == 0:\n",
    "        return 1\n",
    "    else:\n",
    "        return n * factorial(n-1)\n",
    "\n",
    "print(factorial(5))"
   ]
  },
  {
   "cell_type": "code",
   "execution_count": 66,
   "id": "2379af8d-9327-42c7-acdb-15fb8692dcac",
   "metadata": {},
   "outputs": [
    {
     "name": "stdout",
     "output_type": "stream",
     "text": [
      "True\n"
     ]
    }
   ],
   "source": [
    "# 3.Create a function to check if a number is prime:\n",
    "def is_prime(n):\n",
    "    if n <= 1:\n",
    "        return False\n",
    "    for i in range(2, int(n ** 0.5) + 1):\n",
    "        if n % i == 0:\n",
    "            return False\n",
    "    return True\n",
    "\n",
    "print(is_prime(11)) "
   ]
  },
  {
   "cell_type": "code",
   "execution_count": 67,
   "id": "d22e7487-9d81-40ca-b86f-d0cbf3618a1d",
   "metadata": {},
   "outputs": [
    {
     "name": "stdout",
     "output_type": "stream",
     "text": [
      "olleh\n"
     ]
    }
   ],
   "source": [
    "# 4.Create a function to reverse a string:\n",
    "def reverse_string(s):\n",
    "    return s[::-1]\n",
    "\n",
    "print(reverse_string(\"hello\"))"
   ]
  },
  {
   "cell_type": "code",
   "execution_count": 68,
   "id": "3146066f-885a-4315-83bf-e44c9833a758",
   "metadata": {},
   "outputs": [
    {
     "name": "stdout",
     "output_type": "stream",
     "text": [
      "7\n"
     ]
    }
   ],
   "source": [
    "# 5.Create a function to find the maximum of three numbers:\n",
    "def max_of_three(a, b, c):\n",
    "    return max(a, b, c)\n",
    "\n",
    "print(max_of_three(3, 7, 5)) "
   ]
  },
  {
   "cell_type": "markdown",
   "id": "1f81d625-f6a3-4794-a6a2-edb7ab4e012d",
   "metadata": {},
   "source": [
    "# 14. Lambda Function "
   ]
  },
  {
   "cell_type": "code",
   "execution_count": 70,
   "id": "68e70bfd-19c4-4e39-80af-6ea48c8ee95f",
   "metadata": {},
   "outputs": [
    {
     "name": "stdout",
     "output_type": "stream",
     "text": [
      "5\n"
     ]
    }
   ],
   "source": [
    "# 1.Lambda function to add two numbers:\n",
    "add = lambda x, y: x + y\n",
    "print(add(2, 3))"
   ]
  },
  {
   "cell_type": "code",
   "execution_count": 71,
   "id": "bc799d37-3632-4644-8703-188210f21f22",
   "metadata": {},
   "outputs": [
    {
     "name": "stdout",
     "output_type": "stream",
     "text": [
      "16\n"
     ]
    }
   ],
   "source": [
    "# 2.Lambda function to find the square of a number\n",
    "square = lambda x: x ** 2\n",
    "print(square(4)) "
   ]
  },
  {
   "cell_type": "code",
   "execution_count": 72,
   "id": "87767ec1-0d68-43ff-997c-36a3671ec9ef",
   "metadata": {},
   "outputs": [
    {
     "name": "stdout",
     "output_type": "stream",
     "text": [
      "[2, 4, 6]\n"
     ]
    }
   ],
   "source": [
    "# 3.Lambda function to filter even numbers from a list:\n",
    "numbers = [1, 2, 3, 4, 5, 6]\n",
    "even_numbers = list(filter(lambda x: x % 2 == 0, numbers))\n",
    "print(even_numbers)  "
   ]
  },
  {
   "cell_type": "code",
   "execution_count": 73,
   "id": "b555be9d-09e0-47c7-9cbe-aa95eb7a6c70",
   "metadata": {},
   "outputs": [
    {
     "name": "stdout",
     "output_type": "stream",
     "text": [
      "[(3, 1), (1, 2), (5, 4)]\n"
     ]
    }
   ],
   "source": [
    "# 4.Lambda function to sort a list of tuples by the second element:\n",
    "pairs = [(1, 2), (3, 1), (5, 4)]\n",
    "pairs.sort(key=lambda x: x[1])\n",
    "print(pairs) "
   ]
  },
  {
   "cell_type": "code",
   "execution_count": 74,
   "id": "cf36f9de-3314-46a4-bf90-b194c12d60c8",
   "metadata": {},
   "outputs": [
    {
     "name": "stdout",
     "output_type": "stream",
     "text": [
      "[1, 8, 27, 64]\n"
     ]
    }
   ],
   "source": [
    "# 5.Lambda function to map a list to their cubes:\n",
    "numbers = [1, 2, 3, 4]\n",
    "cubes = list(map(lambda x: x ** 3, numbers))\n",
    "print(cubes)"
   ]
  },
  {
   "cell_type": "markdown",
   "id": "eb334bcc-8db1-47f2-95c5-6318301eb28d",
   "metadata": {},
   "source": [
    "# 15. Object Oriented Programming"
   ]
  },
  {
   "cell_type": "code",
   "execution_count": 75,
   "id": "ae447f09-e1ad-418a-bed4-e8c9f761224b",
   "metadata": {},
   "outputs": [
    {
     "name": "stdout",
     "output_type": "stream",
     "text": [
      "Woof!\n"
     ]
    }
   ],
   "source": [
    "# 1.Define a simple class with a method:\n",
    "class Dog:\n",
    "    def __init__(self, name):\n",
    "        self.name = name\n",
    "    \n",
    "    def bark(self):\n",
    "        return \"Woof!\"\n",
    "\n",
    "my_dog = Dog(\"Buddy\")\n",
    "print(my_dog.bark())  # Woof!"
   ]
  },
  {
   "cell_type": "code",
   "execution_count": 76,
   "id": "ba27bb3e-64a5-40b8-bcfa-234e638bf4b3",
   "metadata": {},
   "outputs": [
    {
     "name": "stdout",
     "output_type": "stream",
     "text": [
      "78.5\n"
     ]
    }
   ],
   "source": [
    "# 2.Create a class with a class variable:\n",
    "class Circle:\n",
    "    pi = 3.14\n",
    "    \n",
    "    def __init__(self, radius):\n",
    "        self.radius = radius\n",
    "    \n",
    "    def area(self):\n",
    "        return Circle.pi * self.radius ** 2\n",
    "\n",
    "circle = Circle(5)\n",
    "print(circle.area())  # 78.5"
   ]
  },
  {
   "cell_type": "code",
   "execution_count": 77,
   "id": "6799c4be-7086-4256-b525-e517cc624f0b",
   "metadata": {},
   "outputs": [
    {
     "name": "stdout",
     "output_type": "stream",
     "text": [
      "Woof!\n"
     ]
    }
   ],
   "source": [
    "# 3.Create a class with inheritance:\n",
    "class Animal:\n",
    "    def __init__(self, name):\n",
    "        self.name = name\n",
    "    \n",
    "    def speak(self):\n",
    "        pass\n",
    "\n",
    "class Dog(Animal):\n",
    "    def speak(self):\n",
    "        return \"Woof!\"\n",
    "\n",
    "dog = Dog(\"Buddy\")\n",
    "print(dog.speak())  # Woof!v"
   ]
  },
  {
   "cell_type": "code",
   "execution_count": 78,
   "id": "18f19816-654e-4cc2-a33b-3c10bd354bbb",
   "metadata": {},
   "outputs": [
    {
     "name": "stdout",
     "output_type": "stream",
     "text": [
      "Alice\n"
     ]
    }
   ],
   "source": [
    "# 4.Create a class with private attributes:\n",
    "class Person:\n",
    "    def __init__(self, name, age):\n",
    "        self.__name = name\n",
    "        self.__age = age\n",
    "    \n",
    "    def get_name(self):\n",
    "        return self.__name\n",
    "\n",
    "person = Person(\"Alice\", 30)\n",
    "print(person.get_name())  # Alice"
   ]
  },
  {
   "cell_type": "code",
   "execution_count": 79,
   "id": "02c40e6c-3051-4e0b-84f4-fbab5372799e",
   "metadata": {},
   "outputs": [
    {
     "name": "stdout",
     "output_type": "stream",
     "text": [
      "8\n"
     ]
    },
    {
     "data": {
      "text/plain": [
       "8"
      ]
     },
     "execution_count": 79,
     "metadata": {},
     "output_type": "execute_result"
    }
   ],
   "source": [
    "# 5.Create a class with a static method:\n",
    "\n",
    "class Math:\n",
    "    @staticmethod\n",
    "    def add(a, b):\n",
    "        return a + b\n",
    "\n",
    "print(Math.add(5, 3))  # 8\n",
    "8"
   ]
  },
  {
   "cell_type": "code",
   "execution_count": 80,
   "id": "990f236e-3b56-4c6c-a892-0e0ad1541593",
   "metadata": {},
   "outputs": [
    {
     "name": "stdout",
     "output_type": "stream",
     "text": [
      "Woof!\n"
     ]
    }
   ],
   "source": [
    "# Single Inheritance\n",
    "# Single Inheritance Example\n",
    "class Animal:\n",
    "    def __init__(self, name):\n",
    "        self.name = name\n",
    "    \n",
    "    def speak(self):\n",
    "        return \"Animal speaks\"\n",
    "\n",
    "class Dog(Animal):\n",
    "    def speak(self):\n",
    "        return \"Woof!\"\n",
    "\n",
    "my_dog = Dog(\"Buddy\")\n",
    "print(my_dog.speak())  # Woof!"
   ]
  },
  {
   "cell_type": "code",
   "execution_count": 81,
   "id": "42b019f9-f9d7-4532-a811-d1d4493da928",
   "metadata": {},
   "outputs": [
    {
     "name": "stdout",
     "output_type": "stream",
     "text": [
      "Woof!\n",
      "Meow!\n"
     ]
    }
   ],
   "source": [
    "# Hierarchical Inheritance\n",
    "# Hierarchical Inheritance Example:\n",
    "class Animal:\n",
    "    def __init__(self, name):\n",
    "        self.name = name\n",
    "\n",
    "    def speak(self):\n",
    "        return \"Animal speaks\"\n",
    "\n",
    "class Dog(Animal):\n",
    "    def speak(self):\n",
    "        return \"Woof!\"\n",
    "\n",
    "class Cat(Animal):\n",
    "    def speak(self):\n",
    "        return \"Meow!\"\n",
    "\n",
    "dog = Dog(\"Buddy\")\n",
    "cat = Cat(\"Whiskers\")\n",
    "print(dog.speak())  # Woof!\n",
    "print(cat.speak())  # Meow!"
   ]
  },
  {
   "cell_type": "code",
   "execution_count": 82,
   "id": "8909dd31-421f-42e5-995f-7661428e0ef3",
   "metadata": {},
   "outputs": [
    {
     "name": "stdout",
     "output_type": "stream",
     "text": [
      "Woof!\n",
      "Walks on land\n"
     ]
    }
   ],
   "source": [
    "# Multilevel Inheritance\n",
    "# Multilevel Inheritance Example:\n",
    "\n",
    "class Animal:\n",
    "    def __init__(self, name):\n",
    "        self.name = name\n",
    "\n",
    "    def speak(self):\n",
    "        return \"Animal speaks\"\n",
    "\n",
    "class Mammal(Animal):\n",
    "    def walk(self):\n",
    "        return \"Walks on land\"\n",
    "\n",
    "class Dog(Mammal):\n",
    "    def speak(self):\n",
    "        return \"Woof!\"\n",
    "\n",
    "my_dog = Dog(\"Buddy\")\n",
    "print(my_dog.speak())  # Woof!\n",
    "print(my_dog.walk())   # Walks on land"
   ]
  },
  {
   "cell_type": "code",
   "execution_count": 83,
   "id": "f6baadf5-61aa-472d-a908-112e292c1dd8",
   "metadata": {},
   "outputs": [
    {
     "name": "stdout",
     "output_type": "stream",
     "text": [
      "Method in C\n",
      "[<class '__main__.D'>, <class '__main__.B'>, <class '__main__.C'>, <class '__main__.A'>, <class 'object'>]\n"
     ]
    }
   ],
   "source": [
    "# Method Resolution Order (MRO)\n",
    "\n",
    "# Method Resolution Order Example:\n",
    "\n",
    "class A:\n",
    "    def method(self):\n",
    "        return \"Method in A\"\n",
    "\n",
    "class B(A):\n",
    "    pass\n",
    "\n",
    "class C(A):\n",
    "    def method(self):\n",
    "        return \"Method in C\"\n",
    "\n",
    "class D(B, C):\n",
    "    pass\n",
    "\n",
    "obj = D()\n",
    "print(obj.method())  # Method in C\n",
    "print(D.mro())    "
   ]
  },
  {
   "cell_type": "code",
   "execution_count": 85,
   "id": "630f26d0-8115-4d10-912b-44ed61d78c59",
   "metadata": {},
   "outputs": [
    {
     "name": "stdout",
     "output_type": "stream",
     "text": [
      "Meow!\n",
      "Woof!\n"
     ]
    }
   ],
   "source": [
    "# Polymorphism\n",
    "\n",
    "class Cat:\n",
    "    def speak(self):\n",
    "        return \"Meow!\"\n",
    "\n",
    "class Dog:\n",
    "    def speak(self):\n",
    "        return \"Woof!\"\n",
    "\n",
    "def animal_sound(animal):\n",
    "    print(animal.speak())\n",
    "\n",
    "cat = Cat()\n",
    "dog = Dog()\n",
    "animal_sound(cat)  # Meow!\n",
    "animal_sound(dog)  # Woof!"
   ]
  },
  {
   "cell_type": "code",
   "execution_count": 86,
   "id": "2384eee2-fe6f-484b-bb8f-d17e97ab8b96",
   "metadata": {},
   "outputs": [
    {
     "name": "stdout",
     "output_type": "stream",
     "text": [
      "Buddy says: Woof!\n",
      "Whiskers says: Meow!\n"
     ]
    }
   ],
   "source": [
    "# Overriding in Polymorphism\n",
    "\n",
    "class Animal:\n",
    "    def __init__(self, name):\n",
    "        self.name = name\n",
    "    \n",
    "    def speak(self):\n",
    "        return \"Animal speaks\"\n",
    "\n",
    "class Dog(Animal):\n",
    "    def __init__(self, name):\n",
    "        super().__init__(name)\n",
    "    \n",
    "    def speak(self):\n",
    "        return \"Woof!\"\n",
    "\n",
    "class Cat(Animal):\n",
    "    def __init__(self, name):\n",
    "        super().__init__(name)\n",
    "    \n",
    "    def speak(self):\n",
    "        return \"Meow!\"\n",
    "\n",
    "animals = [Dog(\"Buddy\"), Cat(\"Whiskers\")]\n",
    "\n",
    "for animal in animals:\n",
    "    print(f\"{animal.name} says: {animal.speak()}\")"
   ]
  }
 ],
 "metadata": {
  "kernelspec": {
   "display_name": "Python 3 (ipykernel)",
   "language": "python",
   "name": "python3"
  },
  "language_info": {
   "codemirror_mode": {
    "name": "ipython",
    "version": 3
   },
   "file_extension": ".py",
   "mimetype": "text/x-python",
   "name": "python",
   "nbconvert_exporter": "python",
   "pygments_lexer": "ipython3",
   "version": "3.12.4"
  }
 },
 "nbformat": 4,
 "nbformat_minor": 5
}
